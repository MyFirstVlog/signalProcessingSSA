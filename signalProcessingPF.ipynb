{
  "nbformat": 4,
  "nbformat_minor": 0,
  "metadata": {
    "colab": {
      "name": "signalProcessingPF.ipynb",
      "provenance": [],
      "collapsed_sections": [],
      "toc_visible": true
    },
    "kernelspec": {
      "name": "python3",
      "display_name": "Python 3"
    },
    "language_info": {
      "name": "python"
    }
  },
  "cells": [
    {
      "cell_type": "code",
      "metadata": {
        "colab": {
          "base_uri": "https://localhost:8080/"
        },
        "id": "pb856HNaCGhp",
        "outputId": "e30f203d-f15d-4c87-8a91-2f07905196f6"
      },
      "source": [
        "from google.colab import drive\n",
        "drive.mount('/content/gdrive')"
      ],
      "execution_count": 2,
      "outputs": [
        {
          "output_type": "stream",
          "text": [
            "Mounted at /content/gdrive\n"
          ],
          "name": "stdout"
        }
      ]
    },
    {
      "cell_type": "code",
      "metadata": {
        "colab": {
          "base_uri": "https://localhost:8080/"
        },
        "id": "Y5wawr-aCWK5",
        "outputId": "6aa4d037-88a4-4cf5-a5b9-3354b424647d"
      },
      "source": [
        "%cd gdrive/My Drive/"
      ],
      "execution_count": 3,
      "outputs": [
        {
          "output_type": "stream",
          "text": [
            "/content/gdrive/My Drive\n"
          ],
          "name": "stdout"
        }
      ]
    },
    {
      "cell_type": "code",
      "metadata": {
        "id": "gDywYz7YCjVF"
      },
      "source": [
        "%pwd\n",
        "%mkdir proyecto"
      ],
      "execution_count": null,
      "outputs": []
    },
    {
      "cell_type": "code",
      "metadata": {
        "colab": {
          "base_uri": "https://localhost:8080/"
        },
        "id": "0sFokKVOCtq1",
        "outputId": "a3e50718-7f94-4770-e073-198da11400ee"
      },
      "source": [
        "%ls\n",
        "%cd ./proyecto/"
      ],
      "execution_count": 4,
      "outputs": [
        {
          "output_type": "stream",
          "text": [
            "'10 10 (1).wma'\n",
            "'10 10.wma'\n",
            " 1.py\n",
            " 2015_SEDRA.S_Microelectronic_Circuits_7th_Edition.pdf\n",
            "'24 chap - 19.wma'\n",
            "'Actividad 3.docx'\n",
            "'Alejandro_Estrada_Moscoso (1).docx'\n",
            " Alejandro_Estrada_Moscoso.docx\n",
            " Alejandro_Estrada_Presentation_Personelle.dotx\n",
            "'analisis nodal.mp4'\n",
            "\u001b[0m\u001b[01;34m'apk dispositvos moviles'\u001b[0m/\n",
            " Articulo_Sobre_Estado_del_Arte_y_Marco_Teorico.pdf\n",
            " audios.m4a\n",
            " binario.py\n",
            " BonneSante.apk\n",
            " BonneSante_Nav.apk\n",
            "'BonneSante_V1 (1).apk'\n",
            " BonneSante_V1.apk\n",
            " calculadora.apk\n",
            "'CARRO RECOLECTOR DE BASURA CON MEDIDOR DE GASES DEL AMBIENTE.gdoc'\n",
            "'certificado_1614033739719 (1).pdf'\n",
            "'certificado_1614033739719 (2).pdf'\n",
            " certificado_1614033739719.pdf\n",
            " Circuitos_microelectr_nicos_-_Sedra__Smith.pdf\n",
            " \u001b[01;34mClassroom\u001b[0m/\n",
            "\u001b[01;34m'Colab Notebooks'\u001b[0m/\n",
            " Conversor.apk\n",
            "'Copia de Alter_Ego_1_-_Cahier_d_activites (1).pdf'\n",
            "'Copia de Alter Ego 1 - Manuel (1) (1).pdf'\n",
            "'Copia de Spanning Tree Protocol y agregación de enlaces (clase 6).pdf'\n",
            "'Copie de Alter Ego 1 - Manuel (1) (1).pdf'\n",
            "'Copie de LabFinalSeñales.docx'\n",
            "'Cristiano_Ronaldo_ Alejandro_Estrada.pdf'\n",
            "'Cronograma clase por clase viernes 2018-1.xlsx'\n",
            "'Cronograma clase por clase viernes 2018-1.xlsx.gsheet'\n",
            " \u001b[01;34mCuentas\u001b[0m/\n",
            "'CustomTopo (1).py'\n",
            " CustomTopoAle.py\n",
            " CustomTopo.py\n",
            " Description.docx\n",
            "'Documento sin título (1).gdoc'\n",
            "'Documento sin título.gdoc'\n",
            " e1.py\n",
            "'Editado - Première Note suivi C3 2020-02.pdf'\n",
            "'Emailing TEM-Proposiciones-1.pdf'\n",
            " entrevista.mp4\n",
            "'Enviando Fisica para Ciencias e Ingenieria - Serway - 7 Edicion - Vol 2.pdf'\n",
            " \u001b[01;34mestiramiento\u001b[0m/\n",
            " fabiodetallado.jpg\n",
            " FICHE-DE-LECTURE-.docx\n",
            "'Formato IEEE.gdoc'\n",
            " Formulario.apk\n",
            " \u001b[01;34mFullStack\u001b[0m/\n",
            " FullStack.gdoc\n",
            " GuiaLab4.pdf\n",
            " hojadevida.pdf\n",
            "'hojadevidaV2 (1).pdf'\n",
            "'hojadevidaV2 (2).pdf'\n",
            " hojadevidaV2.pdf\n",
            " hola_mundo.ar\n",
            " IEEE.gdoc\n",
            "'I. Impropias 2016-2.pdf'\n",
            " IMG_4071.mp4\n",
            " IMG_5583.MP4\n",
            " \u001b[01;34mInformatica2\u001b[0m/\n",
            "'Informe (1).gdoc'\n",
            " Informe2.docx\n",
            "'Informe (2).gdoc'\n",
            "'Informe (3).gdoc'\n",
            "'Informe (4).gdoc'\n",
            " Informe.gdoc\n",
            " Informe.pdf\n",
            " in.py\n",
            "'Jam sin título (1).gjam'\n",
            "'Jam sin título.gjam'\n",
            "'lab 2-Alejandro Estrada.rar'\n",
            "\u001b[01;34m'Lab circuitos 2'\u001b[0m/\n",
            " \u001b[01;34mLabFisica\u001b[0m/\n",
            " laboratorio_2.gdoc\n",
            "'LABORATORIO #2.gdoc'\n",
            "\u001b[01;34m'Laboratorio 3 info II'\u001b[0m/\n",
            "'Lettre de motivation AFM corrigée.gdoc'\n",
            " links_repositorios.txt\n",
            "'LIsta PublicaciÃ³n.xlsx'\n",
            "'LIsta Publicación.xlsx'\n",
            " \u001b[01;34mmacbook\u001b[0m/\n",
            " mallas.mp4\n",
            "'matematicasespeciales.2016.REIMPRESO.unidad 1.docx'\n",
            "\u001b[01;34m'Materiales '\u001b[0m/\n",
            "\u001b[01;34m'Meet Recordings'\u001b[0m/\n",
            "\u001b[01;34m'MÉTODOS NUMÉRICOS'\u001b[0m/\n",
            "\u001b[01;34m'Metodos Numericos 2020-1'\u001b[0m/\n",
            "'miniproyecto2 (1).zip'\n",
            " miniproyecto2.zip\n",
            " Modulacion_AM.docx\n",
            " momento.zip\n",
            " \u001b[01;34mNotability\u001b[0m/\n",
            "\u001b[01;34m'Notability (1)'\u001b[0m/\n",
            "\u001b[01;34m'Notability (2)'\u001b[0m/\n",
            "\u001b[01;34m'Notas Metodos Numericos '\u001b[0m/\n",
            " \u001b[01;34mNota_Tarea1_Metodos\u001b[0m/\n",
            "'parcial 2.pdf'\n",
            "\u001b[01;34m'PARCIALES Vectorial'\u001b[0m/\n",
            " parcial-materiales-20200414164934.pdf\n",
            "'Parcial p2p.pdf'\n",
            " \u001b[01;34mPds\u001b[0m/\n",
            " plantilla_anteproyecto.docx\n",
            " practica_8.pdf\n",
            "'Première Note suivi C3 2020-02.docx'\n",
            "'Primer Avance (1).pdf'\n",
            "'Primer Avance.pdf'\n",
            " Propuesta.pdf\n",
            " \u001b[01;34mproyecto\u001b[0m/\n",
            " \u001b[01;34mProyectoFinal\u001b[0m/\n",
            " proyectofinal-copia1.zip\n",
            "\u001b[01;34m'Proyecto Integrador '\u001b[0m/\n",
            "'Proyecto - Nivel de Trasnporte.pdf'\n",
            " Quartier_AlejandroEstrada.pdf\n",
            " QUIZ_2_Federico_saldarriaga.docx\n",
            " quiz.rar\n",
            "\u001b[01;34m'Radio Diapositivas y Parciales'\u001b[0m/\n",
            " Redacción.gdoc\n",
            " \u001b[01;34mRedes1\u001b[0m/\n",
            " \u001b[01;34mRedes1_Alejandro_Estrada_Profesor_Erwin\u001b[0m/\n",
            "\u001b[01;34m'Redes 2'\u001b[0m/\n",
            " \u001b[01;34mREDESi\u001b[0m/\n",
            " Resistor.apk\n",
            " ResultadosEsperados.rar\n",
            "'RESUMEN DE TRANSFORMADAS DE FOURIER. 2017-2.docx'\n",
            "'Segundo Avance App .pdf'\n",
            " Segundo-Parcial-20200406223213.pdf\n",
            "\u001b[01;34m'Semestre 2021-1'\u001b[0m/\n",
            "\u001b[01;34m'Semestre 7'\u001b[0m/\n",
            "\u001b[01;34m'señales 2'\u001b[0m/\n",
            "\u001b[01;34m'Senales_Final '\u001b[0m/\n",
            "'serawy vol 1.pdf'\n",
            "\u001b[01;34m'Servicios Telematicos'\u001b[0m/\n",
            " slicing_rules.py\n",
            " \u001b[01;34mSOFA\u001b[0m/\n",
            " \u001b[01;34msura\u001b[0m/\n",
            "'Tabla Distribucion Normal.pdf'\n",
            "'TALLER LIMITES Y CONTINUIDAD.pdf'\n",
            " \u001b[01;34mTAREA1_METODOS_NUMERICOS\u001b[0m/\n",
            "'tarea3 mat.e.docx'\n",
            "'tarea3 mat.e.docx.gdoc'\n",
            "'Temas segundo parcial.doc'\n",
            "'Trabajos de Matlab.rar'\n",
            "'UNIDAD 2 ACOPLE DE LINEA  JULIO 29 2019 Andres.pptx'\n",
            "'UNIDAD 2 ONDA ESTACIONARIA  JULIO 12 2019.pptx'\n",
            "'ups-oabp-tvp (2020-03-24 at 12:22 GMT-7)'\n",
            "\u001b[01;34m'Vector Geometry'\u001b[0m/\n",
            "\u001b[01;34m'Video Broadcast'\u001b[0m/\n",
            " Video.MP4\n",
            "\u001b[01;34m'Videos ken'\u001b[0m/\n",
            " video_softka.mp4\n",
            " \u001b[01;34mVideos_Turtle\u001b[0m/\n",
            "'Voice Recording'\n",
            "'WhatsApp Video 2020-04-28 at 10.27.16 AM.mp4'\n",
            " Wi-Fi_Expo.pptx\n",
            " Wi-Fi.pptx\n",
            "'xgb-dhqj-uqp (2020-12-20 at 15:23 GMT-8)'\n",
            "/content/gdrive/My Drive/proyecto\n"
          ],
          "name": "stdout"
        }
      ]
    },
    {
      "cell_type": "code",
      "metadata": {
        "colab": {
          "base_uri": "https://localhost:8080/",
          "height": 35
        },
        "id": "BAKQQ00TC0jf",
        "outputId": "1d741288-0b6b-4118-e7f0-dad34eab1046"
      },
      "source": [
        "%pwd"
      ],
      "execution_count": 5,
      "outputs": [
        {
          "output_type": "execute_result",
          "data": {
            "application/vnd.google.colaboratory.intrinsic+json": {
              "type": "string"
            },
            "text/plain": [
              "'/content/gdrive/My Drive/proyecto'"
            ]
          },
          "metadata": {
            "tags": []
          },
          "execution_count": 5
        }
      ]
    },
    {
      "cell_type": "code",
      "metadata": {
        "colab": {
          "base_uri": "https://localhost:8080/"
        },
        "id": "QEHjygCQKP4J",
        "outputId": "3d95fd1d-bf44-4521-d9bf-93f33e70bc08"
      },
      "source": [
        "!pip install pyts"
      ],
      "execution_count": 7,
      "outputs": [
        {
          "output_type": "stream",
          "text": [
            "Collecting pyts\n",
            "\u001b[?25l  Downloading https://files.pythonhosted.org/packages/b6/2b/1a62c0d32b40ee85daa8f6a6160828537b3d846c9fe93253b38846c6ec1f/pyts-0.11.0-py3-none-any.whl (2.5MB)\n",
            "\u001b[K     |████████████████████████████████| 2.5MB 8.3MB/s \n",
            "\u001b[?25hRequirement already satisfied: scikit-learn>=0.22.1 in /usr/local/lib/python3.7/dist-packages (from pyts) (0.22.2.post1)\n",
            "Requirement already satisfied: numba>=0.48.0 in /usr/local/lib/python3.7/dist-packages (from pyts) (0.51.2)\n",
            "Requirement already satisfied: scipy>=1.3.0 in /usr/local/lib/python3.7/dist-packages (from pyts) (1.4.1)\n",
            "Requirement already satisfied: joblib>=0.12 in /usr/local/lib/python3.7/dist-packages (from pyts) (1.0.1)\n",
            "Requirement already satisfied: numpy>=1.17.5 in /usr/local/lib/python3.7/dist-packages (from pyts) (1.19.5)\n",
            "Requirement already satisfied: setuptools in /usr/local/lib/python3.7/dist-packages (from numba>=0.48.0->pyts) (56.0.0)\n",
            "Requirement already satisfied: llvmlite<0.35,>=0.34.0.dev0 in /usr/local/lib/python3.7/dist-packages (from numba>=0.48.0->pyts) (0.34.0)\n",
            "Installing collected packages: pyts\n",
            "Successfully installed pyts-0.11.0\n"
          ],
          "name": "stdout"
        }
      ]
    },
    {
      "cell_type": "code",
      "metadata": {
        "id": "-DRz-eRdKSRH"
      },
      "source": [
        "import numpy as np\n",
        "import matplotlib.pyplot as plt\n",
        "from pyts.decomposition import SingularSpectrumAnalysis\n",
        "import scipy.io as sc\n",
        "from scipy.signal import freqz"
      ],
      "execution_count": 46,
      "outputs": []
    },
    {
      "cell_type": "code",
      "metadata": {
        "colab": {
          "base_uri": "https://localhost:8080/",
          "height": 35
        },
        "id": "rLreByIGLIGw",
        "outputId": "c05282d6-6bb2-46cb-d813-0bc28ab2d26e"
      },
      "source": [
        "%pwd\n"
      ],
      "execution_count": 9,
      "outputs": [
        {
          "output_type": "execute_result",
          "data": {
            "application/vnd.google.colaboratory.intrinsic+json": {
              "type": "string"
            },
            "text/plain": [
              "'/content/gdrive/My Drive/proyecto'"
            ]
          },
          "metadata": {
            "tags": []
          },
          "execution_count": 9
        }
      ]
    },
    {
      "cell_type": "code",
      "metadata": {
        "colab": {
          "base_uri": "https://localhost:8080/"
        },
        "id": "VD8KTSOULzdV",
        "outputId": "18f243b0-21ee-463b-e182-9b55e16eb6e3"
      },
      "source": [
        "%ls"
      ],
      "execution_count": 6,
      "outputs": [
        {
          "output_type": "stream",
          "text": [
            "sisLoc.mat  sisReg.mat  sisTele.mat\n"
          ],
          "name": "stdout"
        }
      ]
    },
    {
      "cell_type": "code",
      "metadata": {
        "id": "oQ83q6bzcv_A"
      },
      "source": [
        "from scipy.signal import butter, lfilter\n",
        "\n",
        "def butter_bandpass(lowcut, highcut, fs, order=5):\n",
        "    nyq = 0.5 * fs\n",
        "    low = lowcut / nyq\n",
        "    high = highcut / nyq\n",
        "    b, a = butter(order, [low, high], btype='band')\n",
        "    return b, a\n",
        "\n",
        "\n",
        "def butter_bandpass_filter(data, lowcut, highcut, fs, order=5):\n",
        "    b, a = butter_bandpass(lowcut, highcut, fs, order=order)\n",
        "    y = lfilter(b, a, data)\n",
        "    return y"
      ],
      "execution_count": 47,
      "outputs": []
    },
    {
      "cell_type": "code",
      "metadata": {
        "colab": {
          "base_uri": "https://localhost:8080/",
          "height": 800
        },
        "id": "oVd5swf7LdVU",
        "outputId": "560d2425-6b9e-4683-8f55-f1d7b2f9f2a6"
      },
      "source": [
        "#Tele\n",
        "data_tele = sc.loadmat('/content/gdrive/My Drive/proyecto/sisTele.mat')\n",
        "data_tele.keys() # variables del diccionario\n",
        "\n",
        "Y_tele = data_tele['Y']\n",
        "fs_tele = data_tele['fs']\n",
        "fs_tele = fs_tele[0][0]\n",
        "print(\"muestreo\",fs_tele)\n",
        "\n",
        "\n",
        "plt.plot(Y_tele.T) #se le hace transpuesta\n",
        "plt.xlabel('sample')\n",
        "plt.ylabel('$\\mu$ V')\n",
        "plt.show()\n",
        "sampleSignal = Y_tele[15,:] # se extrae una señal de la base de datos\n",
        "plt.figure\n",
        "plt.plot(sampleSignal)\n",
        "yy = sampleSignal\n",
        "plt.xlabel('sample')\n",
        "plt.ylabel('$\\mu$ V')\n",
        "plt.show()\n",
        "\n",
        "print(sampleSignal[:80])\n",
        "#regional \n",
        "\n",
        "data_reg = sc.loadmat('/content/gdrive/My Drive/proyecto/sisReg.mat')\n",
        "data_reg.keys() # variables del diccionario\n",
        "\n",
        "Y_reg = data_reg['Y']\n",
        "fs_reg = data_reg['fs']\n",
        "\n",
        "#Local\n",
        "\n",
        "\n",
        "data_loc = sc.loadmat('/content/gdrive/My Drive/proyecto/sisLoc.mat')\n",
        "data_loc.keys() # variables del diccionario\n",
        "\n",
        "Y_loc = data_loc['Y']\n",
        "fs_loc = data_loc['fs']"
      ],
      "execution_count": 97,
      "outputs": [
        {
          "output_type": "stream",
          "text": [
            "muestreo 100\n"
          ],
          "name": "stdout"
        },
        {
          "output_type": "display_data",
          "data": {
            "image/png": "[encoded data removed]",
            "text/plain": [
              "<Figure size 432x288 with 1 Axes>"
            ]
          },
          "metadata": {
            "tags": [],
            "needs_background": "light"
          }
        },
        {
          "output_type": "display_data",
          "data": {
            "image/png": "[encoded data removed]",
            "text/plain": [
              "<Figure size 432x288 with 1 Axes>"
            ]
          },
          "metadata": {
            "tags": [],
            "needs_background": "light"
          }
        },
        {
          "output_type": "stream",
          "text": [
            "[0.88844266 0.89067381 0.89335118 0.89067381 0.8951361  0.90049085\n",
            " 0.89647479 0.90182954 0.89825971 0.90004462 0.90495315 0.90227577\n",
            " 0.89602856 0.88799643 0.89156627 0.89156627 0.89647479 0.90182954\n",
            " 0.90316823 0.90049085 0.89424364 0.88621151 0.87951807 0.8875502\n",
            " 0.88621151 0.88844266 0.8951361  0.8951361  0.89379741 0.89067381\n",
            " 0.88130299 0.89424364 0.8951361  0.8951361  0.89692102 0.89468987\n",
            " 0.89558233 0.89468987 0.88710397 0.89156627 0.89468987 0.89335118\n",
            " 0.89825971 0.8875502  0.90227577 0.90539938 0.902722   0.89781348\n",
            " 0.89558233 0.90049085 0.902722   0.89870593 0.89781348 0.90852298\n",
            " 0.90406069 0.90361446 0.89870593 0.89022758 0.90093708 0.90093708\n",
            " 0.89781348 0.89736725 0.89424364 0.89424364 0.89915216 0.90227577\n",
            " 0.90450692 0.902722   0.89959839 0.90316823 0.89825971 0.89379741\n",
            " 0.90182954 0.90004462 0.9058456  0.90049085 0.89825971 0.89825971\n",
            " 0.90316823 0.89915216]\n"
          ],
          "name": "stdout"
        }
      ]
    },
    {
      "cell_type": "code",
      "metadata": {
        "colab": {
          "base_uri": "https://localhost:8080/",
          "height": 541
        },
        "id": "fbCDkbjVfUd5",
        "outputId": "6db68af3-8be0-40ad-a96e-4dd821166fb8"
      },
      "source": [
        "fs = fs_tele\n",
        "lowcut = 1.0\n",
        "highcut = 49.7\n",
        "\n",
        "# Plot the frequency response for a few different orders.\n",
        "plt.figure(1)\n",
        "plt.clf()\n",
        "for order in [3, 6, 9]:\n",
        "  b, a = butter_bandpass(lowcut, highcut, fs, order=order)\n",
        "  w, h = freqz(b, a, worN=2000)\n",
        "  plt.plot((fs * 0.5 / np.pi) * w, abs(h), label=\"order = %d\" % order)\n",
        "\n",
        "plt.plot([0, 0.5 * fs], [np.sqrt(0.5), np.sqrt(0.5)],\n",
        "             '--', label='sqrt(0.5)')\n",
        "plt.xlabel('Frequency (Hz)')\n",
        "plt.ylabel('Gain')\n",
        "plt.grid(True)\n",
        "plt.legend(loc='best')\n",
        "\n",
        "plt.figure(2)\n",
        "plt.clf()\n",
        "plt.plot(yy, label='Noisy signal')\n",
        "\n",
        "\n",
        "y = butter_bandpass_filter(yy, lowcut, highcut, fs, order=9)\n",
        "plt.plot(y, label='Filtered signal (%g Hz)' )\n",
        "plt.xlabel('samples')\n",
        "plt.grid(True)\n",
        "plt.axis('tight')\n",
        "plt.legend(loc='upper right')\n",
        "\n",
        "plt.show()"
      ],
      "execution_count": 119,
      "outputs": [
        {
          "output_type": "display_data",
          "data": {
            "image/png": "[encoded data removed]",
            "text/plain": [
              "<Figure size 432x288 with 1 Axes>"
            ]
          },
          "metadata": {
            "tags": [],
            "needs_background": "light"
          }
        },
        {
          "output_type": "display_data",
          "data": {
            "image/png": "[encoded data removed]",
            "text/plain": [
              "<Figure size 432x288 with 1 Axes>"
            ]
          },
          "metadata": {
            "tags": [],
            "needs_background": "light"
          }
        }
      ]
    },
    {
      "cell_type": "code",
      "metadata": {
        "colab": {
          "base_uri": "https://localhost:8080/",
          "height": 299
        },
        "id": "qMi7esc1Mp8c",
        "outputId": "ee611056-4e1f-4005-ef2c-2068ab368c2c"
      },
      "source": [
        "#Aqui empezaremos a generar el filtro para los telesismos\n",
        "\n",
        "N = len(sampleSignal)\n",
        "print(fs_tele)\n",
        "# Plot the positive frequencies.\n",
        "f_pos = np.arange(0, fs_tele / 2, step=fs_tele / N)\n",
        "# Plot the negative frequencies.\n",
        "f_neg = np.arange(-fs_tele / 2, 0, step=fs_tele / N)\n",
        "\n",
        "f_pos = np.arange(0, fs_tele / 2, step=fs_tele / N)\n",
        "H_pos = 1. * (f_pos >= 1) #funcion de transferencia, donde se cumple la condicion pone true(1) y false (0), cuando no se cumple\n",
        "H2_pos = 1. * (f_pos <= 49.7)\n",
        "Hfinal = H_pos * H2_pos\n",
        "\n",
        "\n",
        "\n",
        "f_neg = np.arange(-fs_tele / 2, 0, step=fs_tele / N)\n",
        "H_neg = 1. * (f_neg <= -1)\n",
        "H_neg2 = 1. * (f_neg >= -49.7)\n",
        "Hfinal2 = H_neg * H_neg2\n",
        "\n",
        "H = np.concatenate([Hfinal, Hfinal2]) #xfilt(w) = x(w)*h(w)'''\n",
        "plt.plot(Hfinal)"
      ],
      "execution_count": 120,
      "outputs": [
        {
          "output_type": "stream",
          "text": [
            "100\n"
          ],
          "name": "stdout"
        },
        {
          "output_type": "execute_result",
          "data": {
            "text/plain": [
              "[<matplotlib.lines.Line2D at 0x7ff62fdda9d0>]"
            ]
          },
          "metadata": {
            "tags": []
          },
          "execution_count": 120
        },
        {
          "output_type": "display_data",
          "data": {
            "image/png": "[encoded data removed]",
            "text/plain": [
              "<Figure size 432x288 with 1 Axes>"
            ]
          },
          "metadata": {
            "tags": [],
            "needs_background": "light"
          }
        }
      ]
    },
    {
      "cell_type": "code",
      "metadata": {
        "colab": {
          "base_uri": "https://localhost:8080/",
          "height": 282
        },
        "id": "T5zVoewvkUAB",
        "outputId": "2d9de60b-7bb0-49e7-8ebd-579f78cde59a"
      },
      "source": [
        "h = np.real(np.fft.ifft(H)) # The IFFT should automatically be real-valued. We take np.real just to be safe.\n",
        "plt.plot(h)"
      ],
      "execution_count": 121,
      "outputs": [
        {
          "output_type": "execute_result",
          "data": {
            "text/plain": [
              "[<matplotlib.lines.Line2D at 0x7ff62f66d0d0>]"
            ]
          },
          "metadata": {
            "tags": []
          },
          "execution_count": 121
        },
        {
          "output_type": "display_data",
          "data": {
            "image/png": "[encoded data removed]",
            "text/plain": [
              "<Figure size 432x288 with 1 Axes>"
            ]
          },
          "metadata": {
            "tags": [],
            "needs_background": "light"
          }
        }
      ]
    },
    {
      "cell_type": "code",
      "metadata": {
        "colab": {
          "base_uri": "https://localhost:8080/",
          "height": 282
        },
        "id": "6AuGFD2ektFP",
        "outputId": "9dd775ca-f596-4187-fc62-0d7f50d04c3b"
      },
      "source": [
        "h_trunc = np.concatenate([h[-1000:], h[:1000]])\n",
        "plt.plot(h_trunc)"
      ],
      "execution_count": 122,
      "outputs": [
        {
          "output_type": "execute_result",
          "data": {
            "text/plain": [
              "[<matplotlib.lines.Line2D at 0x7ff62ff1f210>]"
            ]
          },
          "metadata": {
            "tags": []
          },
          "execution_count": 122
        },
        {
          "output_type": "display_data",
          "data": {
            "image/png": "[encoded data removed]",
            "text/plain": [
              "<Figure size 432x288 with 1 Axes>"
            ]
          },
          "metadata": {
            "tags": [],
            "needs_background": "light"
          }
        }
      ]
    },
    {
      "cell_type": "code",
      "metadata": {
        "colab": {
          "base_uri": "https://localhost:8080/",
          "height": 282
        },
        "id": "_14HwSWDlSL0",
        "outputId": "50a100e1-6ba1-47f2-f160-b10ff8338b6b"
      },
      "source": [
        "y = np.convolve(yy, h_trunc)\n",
        "y = y[:-1]\n",
        "\n",
        "N = len(y)\n",
        "t = np.arange(0, N / fs, step=1 / fs)\n",
        "plt.figure(4)\n",
        "plt.plot(y)\n",
        "plt.plot(yy)"
      ],
      "execution_count": 123,
      "outputs": [
        {
          "output_type": "execute_result",
          "data": {
            "text/plain": [
              "[<matplotlib.lines.Line2D at 0x7ff62f7d5190>]"
            ]
          },
          "metadata": {
            "tags": []
          },
          "execution_count": 123
        },
        {
          "output_type": "display_data",
          "data": {
            "image/png": "[encoded data removed]",
            "text/plain": [
              "<Figure size 432x288 with 1 Axes>"
            ]
          },
          "metadata": {
            "tags": [],
            "needs_background": "light"
          }
        }
      ]
    },
    {
      "cell_type": "code",
      "metadata": {
        "colab": {
          "base_uri": "https://localhost:8080/"
        },
        "id": "6yqOYek0qF3C",
        "outputId": "397bf3b9-dd2f-4b04-a6b6-c012641e2094"
      },
      "source": [
        "zeos = np.zeros((2,3))\n",
        "print(zeos)\n",
        "zeos[0] = [1,2,3]\n",
        "print(zeos)"
      ],
      "execution_count": 126,
      "outputs": [
        {
          "output_type": "stream",
          "text": [
            "[[0. 0. 0.]\n",
            " [0. 0. 0.]]\n",
            "[[1. 2. 3.]\n",
            " [0. 0. 0.]]\n"
          ],
          "name": "stdout"
        }
      ]
    }
  ]
}