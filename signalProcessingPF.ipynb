{
  "nbformat": 4,
  "nbformat_minor": 0,
  "metadata": {
    "colab": {
      "name": "signalProcessingPF.ipynb",
      "provenance": []
    },
    "kernelspec": {
      "name": "python3",
      "display_name": "Python 3"
    },
    "language_info": {
      "name": "python"
    }
  },
  "cells": [
    {
      "cell_type": "code",
      "metadata": {
        "colab": {
          "base_uri": "https://localhost:8080/"
        },
        "id": "pb856HNaCGhp",
        "outputId": "f6c4ca02-c29a-445e-f6f1-37358adc9e98"
      },
      "source": [
        "from google.colab import drive\n",
        "drive.mount('/content/gdrive')"
      ],
      "execution_count": 44,
      "outputs": [
        {
          "output_type": "stream",
          "text": [
            "Mounted at /content/gdrive\n"
          ],
          "name": "stdout"
        }
      ]
    },
    {
      "cell_type": "code",
      "metadata": {
        "colab": {
          "base_uri": "https://localhost:8080/"
        },
        "id": "Y5wawr-aCWK5",
        "outputId": "240f981d-cd5e-4452-d19d-8b6b09781e57"
      },
      "source": [
        "%cd gdrive/My Drive/"
      ],
      "execution_count": 45,
      "outputs": [
        {
          "output_type": "stream",
          "text": [
            "/content/gdrive/My Drive\n"
          ],
          "name": "stdout"
        }
      ]
    },
    {
      "cell_type": "code",
      "metadata": {
        "id": "gDywYz7YCjVF"
      },
      "source": [
        "%pwd\n",
        "%mkdir proyecto"
      ],
      "execution_count": 47,
      "outputs": []
    },
    {
      "cell_type": "code",
      "metadata": {
        "colab": {
          "base_uri": "https://localhost:8080/"
        },
        "id": "0sFokKVOCtq1",
        "outputId": "5b18b9a0-5e5a-43d4-ece3-94fbb3c641c2"
      },
      "source": [
        "%ls\n",
        "%cd ./proyecto/"
      ],
      "execution_count": 49,
      "outputs": [
        {
          "output_type": "stream",
          "text": [
            "'10 10 (1).wma'\n",
            "'10 10.wma'\n",
            " 1.py\n",
            " 2015_SEDRA.S_Microelectronic_Circuits_7th_Edition.pdf\n",
            "'24 chap - 19.wma'\n",
            "'Actividad 3.docx'\n",
            "'Alejandro_Estrada_Moscoso (1).docx'\n",
            " Alejandro_Estrada_Moscoso.docx\n",
            " Alejandro_Estrada_Presentation_Personelle.dotx\n",
            "'analisis nodal.mp4'\n",
            "\u001b[0m\u001b[01;34m'apk dispositvos moviles'\u001b[0m/\n",
            " Articulo_Sobre_Estado_del_Arte_y_Marco_Teorico.pdf\n",
            " audios.m4a\n",
            " binario.py\n",
            " BonneSante.apk\n",
            " BonneSante_Nav.apk\n",
            "'BonneSante_V1 (1).apk'\n",
            " BonneSante_V1.apk\n",
            " calculadora.apk\n",
            "'CARRO RECOLECTOR DE BASURA CON MEDIDOR DE GASES DEL AMBIENTE.gdoc'\n",
            "'certificado_1614033739719 (1).pdf'\n",
            "'certificado_1614033739719 (2).pdf'\n",
            " certificado_1614033739719.pdf\n",
            " Circuitos_microelectr_nicos_-_Sedra__Smith.pdf\n",
            " \u001b[01;34mClassroom\u001b[0m/\n",
            "\u001b[01;34m'Colab Notebooks'\u001b[0m/\n",
            " Conversor.apk\n",
            "'Copia de Alter_Ego_1_-_Cahier_d_activites (1).pdf'\n",
            "'Copia de Alter Ego 1 - Manuel (1) (1).pdf'\n",
            "'Copia de Spanning Tree Protocol y agregación de enlaces (clase 6).pdf'\n",
            "'Copie de Alter Ego 1 - Manuel (1) (1).pdf'\n",
            "'Copie de LabFinalSeñales.docx'\n",
            "'Cristiano_Ronaldo_ Alejandro_Estrada.pdf'\n",
            "'Cronograma clase por clase viernes 2018-1.xlsx'\n",
            "'Cronograma clase por clase viernes 2018-1.xlsx.gsheet'\n",
            " \u001b[01;34mCuentas\u001b[0m/\n",
            "'CustomTopo (1).py'\n",
            " CustomTopoAle.py\n",
            " CustomTopo.py\n",
            " Description.docx\n",
            "'Documento sin título (1).gdoc'\n",
            "'Documento sin título.gdoc'\n",
            " e1.py\n",
            "'Editado - Première Note suivi C3 2020-02.pdf'\n",
            "'Emailing TEM-Proposiciones-1.pdf'\n",
            " entrevista.mp4\n",
            "'Enviando Fisica para Ciencias e Ingenieria - Serway - 7 Edicion - Vol 2.pdf'\n",
            " \u001b[01;34mestiramiento\u001b[0m/\n",
            " fabiodetallado.jpg\n",
            " FICHE-DE-LECTURE-.docx\n",
            "'Formato IEEE.gdoc'\n",
            " Formulario.apk\n",
            " \u001b[01;34mFullStack\u001b[0m/\n",
            " FullStack.gdoc\n",
            " GuiaLab4.pdf\n",
            " hojadevida.pdf\n",
            "'hojadevidaV2 (1).pdf'\n",
            "'hojadevidaV2 (2).pdf'\n",
            " hojadevidaV2.pdf\n",
            " hola_mundo.ar\n",
            " IEEE.gdoc\n",
            "'I. Impropias 2016-2.pdf'\n",
            " IMG_4071.mp4\n",
            " IMG_5583.MP4\n",
            " \u001b[01;34mInformatica2\u001b[0m/\n",
            "'Informe (1).gdoc'\n",
            " Informe2.docx\n",
            "'Informe (2).gdoc'\n",
            "'Informe (3).gdoc'\n",
            "'Informe (4).gdoc'\n",
            " Informe.gdoc\n",
            " Informe.pdf\n",
            " in.py\n",
            "'Jam sin título (1).gjam'\n",
            "'Jam sin título.gjam'\n",
            "'lab 2-Alejandro Estrada.rar'\n",
            "\u001b[01;34m'Lab circuitos 2'\u001b[0m/\n",
            " \u001b[01;34mLabFisica\u001b[0m/\n",
            " laboratorio_2.gdoc\n",
            "'LABORATORIO #2.gdoc'\n",
            "\u001b[01;34m'Laboratorio 3 info II'\u001b[0m/\n",
            "'Lettre de motivation AFM corrigée.gdoc'\n",
            " links_repositorios.txt\n",
            "'LIsta PublicaciÃ³n.xlsx'\n",
            "'LIsta Publicación.xlsx'\n",
            " \u001b[01;34mmacbook\u001b[0m/\n",
            " mallas.mp4\n",
            "'matematicasespeciales.2016.REIMPRESO.unidad 1.docx'\n",
            "\u001b[01;34m'Materiales '\u001b[0m/\n",
            "\u001b[01;34m'Meet Recordings'\u001b[0m/\n",
            "\u001b[01;34m'MÉTODOS NUMÉRICOS'\u001b[0m/\n",
            "\u001b[01;34m'Metodos Numericos 2020-1'\u001b[0m/\n",
            "'miniproyecto2 (1).zip'\n",
            " miniproyecto2.zip\n",
            " Modulacion_AM.docx\n",
            " momento.zip\n",
            " \u001b[01;34mNotability\u001b[0m/\n",
            "\u001b[01;34m'Notability (1)'\u001b[0m/\n",
            "\u001b[01;34m'Notability (2)'\u001b[0m/\n",
            "\u001b[01;34m'Notas Metodos Numericos '\u001b[0m/\n",
            " \u001b[01;34mNota_Tarea1_Metodos\u001b[0m/\n",
            "'parcial 2.pdf'\n",
            "\u001b[01;34m'PARCIALES Vectorial'\u001b[0m/\n",
            " parcial-materiales-20200414164934.pdf\n",
            "'Parcial p2p.pdf'\n",
            " \u001b[01;34mPds\u001b[0m/\n",
            " plantilla_anteproyecto.docx\n",
            " practica_8.pdf\n",
            "'Première Note suivi C3 2020-02.docx'\n",
            "'Primer Avance (1).pdf'\n",
            "'Primer Avance.pdf'\n",
            " Propuesta.pdf\n",
            " \u001b[01;34mproyecto\u001b[0m/\n",
            " \u001b[01;34mProyectoFinal\u001b[0m/\n",
            " proyectofinal-copia1.zip\n",
            "\u001b[01;34m'Proyecto Integrador '\u001b[0m/\n",
            "'Proyecto - Nivel de Trasnporte.pdf'\n",
            " Quartier_AlejandroEstrada.pdf\n",
            " QUIZ_2_Federico_saldarriaga.docx\n",
            " quiz.rar\n",
            "\u001b[01;34m'Radio Diapositivas y Parciales'\u001b[0m/\n",
            " Redacción.gdoc\n",
            " \u001b[01;34mRedes1\u001b[0m/\n",
            " \u001b[01;34mRedes1_Alejandro_Estrada_Profesor_Erwin\u001b[0m/\n",
            "\u001b[01;34m'Redes 2'\u001b[0m/\n",
            " \u001b[01;34mREDESi\u001b[0m/\n",
            " Resistor.apk\n",
            " ResultadosEsperados.rar\n",
            "'RESUMEN DE TRANSFORMADAS DE FOURIER. 2017-2.docx'\n",
            "'Segundo Avance App .pdf'\n",
            " Segundo-Parcial-20200406223213.pdf\n",
            "\u001b[01;34m'Semestre 2021-1'\u001b[0m/\n",
            "\u001b[01;34m'Semestre 7'\u001b[0m/\n",
            "\u001b[01;34m'señales 2'\u001b[0m/\n",
            "\u001b[01;34m'Senales_Final '\u001b[0m/\n",
            "'serawy vol 1.pdf'\n",
            "\u001b[01;34m'Servicios Telematicos'\u001b[0m/\n",
            " slicing_rules.py\n",
            " \u001b[01;34mSOFA\u001b[0m/\n",
            " \u001b[01;34msura\u001b[0m/\n",
            "'Tabla Distribucion Normal.pdf'\n",
            "'TALLER LIMITES Y CONTINUIDAD.pdf'\n",
            " \u001b[01;34mTAREA1_METODOS_NUMERICOS\u001b[0m/\n",
            "'tarea3 mat.e.docx'\n",
            "'tarea3 mat.e.docx.gdoc'\n",
            "'Temas segundo parcial.doc'\n",
            "'Trabajos de Matlab.rar'\n",
            "'UNIDAD 2 ACOPLE DE LINEA  JULIO 29 2019 Andres.pptx'\n",
            "'UNIDAD 2 ONDA ESTACIONARIA  JULIO 12 2019.pptx'\n",
            "'ups-oabp-tvp (2020-03-24 at 12:22 GMT-7)'\n",
            "\u001b[01;34m'Vector Geometry'\u001b[0m/\n",
            "\u001b[01;34m'Video Broadcast'\u001b[0m/\n",
            " Video.MP4\n",
            "\u001b[01;34m'Videos ken'\u001b[0m/\n",
            " video_softka.mp4\n",
            " \u001b[01;34mVideos_Turtle\u001b[0m/\n",
            "'Voice Recording'\n",
            "'WhatsApp Video 2020-04-28 at 10.27.16 AM.mp4'\n",
            " Wi-Fi_Expo.pptx\n",
            " Wi-Fi.pptx\n",
            "'xgb-dhqj-uqp (2020-12-20 at 15:23 GMT-8)'\n",
            "/content/gdrive/My Drive/proyecto\n"
          ],
          "name": "stdout"
        }
      ]
    },
    {
      "cell_type": "code",
      "metadata": {
        "colab": {
          "base_uri": "https://localhost:8080/",
          "height": 35
        },
        "id": "BAKQQ00TC0jf",
        "outputId": "52dc9d35-c45c-4857-e0fa-84ed594a1719"
      },
      "source": [
        "%pwd"
      ],
      "execution_count": 51,
      "outputs": [
        {
          "output_type": "execute_result",
          "data": {
            "application/vnd.google.colaboratory.intrinsic+json": {
              "type": "string"
            },
            "text/plain": [
              "'/content/gdrive/My Drive/proyecto'"
            ]
          },
          "metadata": {
            "tags": []
          },
          "execution_count": 51
        }
      ]
    },
    {
      "cell_type": "markdown",
      "metadata": {
        "id": "u1dqT0i2GNJX"
      },
      "source": [
        "este es texto\n"
      ]
    }
  ]
}